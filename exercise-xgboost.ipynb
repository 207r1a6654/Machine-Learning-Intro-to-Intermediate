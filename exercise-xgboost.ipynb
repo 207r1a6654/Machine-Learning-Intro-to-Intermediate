{
 "cells": [
  {
   "cell_type": "markdown",
   "id": "a2e7efdc",
   "metadata": {
    "papermill": {
     "duration": 0.005318,
     "end_time": "2023-01-15T17:12:55.157797",
     "exception": false,
     "start_time": "2023-01-15T17:12:55.152479",
     "status": "completed"
    },
    "tags": []
   },
   "source": [
    "**This notebook is an exercise in the [Intermediate Machine Learning](https://www.kaggle.com/learn/intermediate-machine-learning) course.  You can reference the tutorial at [this link](https://www.kaggle.com/alexisbcook/xgboost).**\n",
    "\n",
    "---\n"
   ]
  },
  {
   "cell_type": "markdown",
   "id": "f1d818b2",
   "metadata": {
    "papermill": {
     "duration": 0.004151,
     "end_time": "2023-01-15T17:12:55.166551",
     "exception": false,
     "start_time": "2023-01-15T17:12:55.162400",
     "status": "completed"
    },
    "tags": []
   },
   "source": [
    "In this exercise, you will use your new knowledge to train a model with **gradient boosting**.\n",
    "\n",
    "# Setup\n",
    "\n",
    "The questions below will give you feedback on your work. Run the following cell to set up the feedback system."
   ]
  },
  {
   "cell_type": "code",
   "execution_count": 1,
   "id": "55b8acd5",
   "metadata": {
    "execution": {
     "iopub.execute_input": "2023-01-15T17:12:55.177921Z",
     "iopub.status.busy": "2023-01-15T17:12:55.177364Z",
     "iopub.status.idle": "2023-01-15T17:12:57.250404Z",
     "shell.execute_reply": "2023-01-15T17:12:57.249032Z"
    },
    "papermill": {
     "duration": 2.082034,
     "end_time": "2023-01-15T17:12:57.253064",
     "exception": false,
     "start_time": "2023-01-15T17:12:55.171030",
     "status": "completed"
    },
    "tags": []
   },
   "outputs": [
    {
     "name": "stdout",
     "output_type": "stream",
     "text": [
      "Setup Complete\n"
     ]
    }
   ],
   "source": [
    "# Set up code checking\n",
    "import os\n",
    "if not os.path.exists(\"../input/train.csv\"):\n",
    "    os.symlink(\"../input/home-data-for-ml-course/train.csv\", \"../input/train.csv\")  \n",
    "    os.symlink(\"../input/home-data-for-ml-course/test.csv\", \"../input/test.csv\") \n",
    "from learntools.core import binder\n",
    "binder.bind(globals())\n",
    "from learntools.ml_intermediate.ex6 import *\n",
    "print(\"Setup Complete\")"
   ]
  },
  {
   "cell_type": "markdown",
   "id": "5d2af981",
   "metadata": {
    "papermill": {
     "duration": 0.004396,
     "end_time": "2023-01-15T17:12:57.262204",
     "exception": false,
     "start_time": "2023-01-15T17:12:57.257808",
     "status": "completed"
    },
    "tags": []
   },
   "source": [
    "You will work with the [Housing Prices Competition for Kaggle Learn Users](https://www.kaggle.com/c/home-data-for-ml-course) dataset from the previous exercise. \n",
    "\n",
    "![Ames Housing dataset image](https://i.imgur.com/lTJVG4e.png)\n",
    "\n",
    "Run the next code cell without changes to load the training and validation sets in `X_train`, `X_valid`, `y_train`, and `y_valid`.  The test set is loaded in `X_test`."
   ]
  },
  {
   "cell_type": "code",
   "execution_count": 2,
   "id": "9f29b545",
   "metadata": {
    "execution": {
     "iopub.execute_input": "2023-01-15T17:12:57.273381Z",
     "iopub.status.busy": "2023-01-15T17:12:57.272968Z",
     "iopub.status.idle": "2023-01-15T17:12:57.425633Z",
     "shell.execute_reply": "2023-01-15T17:12:57.424656Z"
    },
    "papermill": {
     "duration": 0.160922,
     "end_time": "2023-01-15T17:12:57.427670",
     "exception": false,
     "start_time": "2023-01-15T17:12:57.266748",
     "status": "completed"
    },
    "tags": []
   },
   "outputs": [],
   "source": [
    "import pandas as pd\n",
    "from sklearn.model_selection import train_test_split\n",
    "\n",
    "# Read the data\n",
    "X = pd.read_csv('../input/train.csv', index_col='Id')\n",
    "X_test_full = pd.read_csv('../input/test.csv', index_col='Id')\n",
    "\n",
    "# Remove rows with missing target, separate target from predictors\n",
    "X.dropna(axis=0, subset=['SalePrice'], inplace=True)\n",
    "y = X.SalePrice              \n",
    "X.drop(['SalePrice'], axis=1, inplace=True)\n",
    "\n",
    "# Break off validation set from training data\n",
    "X_train_full, X_valid_full, y_train, y_valid = train_test_split(X, y, train_size=0.8, test_size=0.2,\n",
    "                                                                random_state=0)\n",
    "\n",
    "# \"Cardinality\" means the number of unique values in a column\n",
    "# Select categorical columns with relatively low cardinality (convenient but arbitrary)\n",
    "low_cardinality_cols = [cname for cname in X_train_full.columns if X_train_full[cname].nunique() < 10 and \n",
    "                        X_train_full[cname].dtype == \"object\"]\n",
    "\n",
    "# Select numeric columns\n",
    "numeric_cols = [cname for cname in X_train_full.columns if X_train_full[cname].dtype in ['int64', 'float64']]\n",
    "\n",
    "# Keep selected columns only\n",
    "my_cols = low_cardinality_cols + numeric_cols\n",
    "X_train = X_train_full[my_cols].copy()\n",
    "X_valid = X_valid_full[my_cols].copy()\n",
    "X_test = X_test_full[my_cols].copy()\n",
    "\n",
    "# One-hot encode the data (to shorten the code, we use pandas)\n",
    "X_train = pd.get_dummies(X_train)\n",
    "X_valid = pd.get_dummies(X_valid)\n",
    "X_test = pd.get_dummies(X_test)\n",
    "X_train, X_valid = X_train.align(X_valid, join='left', axis=1)\n",
    "X_train, X_test = X_train.align(X_test, join='left', axis=1)"
   ]
  },
  {
   "cell_type": "markdown",
   "id": "106c8575",
   "metadata": {
    "papermill": {
     "duration": 0.004362,
     "end_time": "2023-01-15T17:12:57.436692",
     "exception": false,
     "start_time": "2023-01-15T17:12:57.432330",
     "status": "completed"
    },
    "tags": []
   },
   "source": [
    "# Step 1: Build model\n",
    "\n",
    "### Part A\n",
    "\n",
    "In this step, you'll build and train your first model with gradient boosting.\n",
    "\n",
    "- Begin by setting `my_model_1` to an XGBoost model.  Use the [XGBRegressor](https://xgboost.readthedocs.io/en/latest/python/python_api.html#xgboost.XGBRegressor) class, and set the random seed to 0 (`random_state=0`).  **Leave all other parameters as default.**\n",
    "- Then, fit the model to the training data in `X_train` and `y_train`."
   ]
  },
  {
   "cell_type": "code",
   "execution_count": 3,
   "id": "aab5208e",
   "metadata": {
    "execution": {
     "iopub.execute_input": "2023-01-15T17:12:57.447545Z",
     "iopub.status.busy": "2023-01-15T17:12:57.446823Z",
     "iopub.status.idle": "2023-01-15T17:12:58.187255Z",
     "shell.execute_reply": "2023-01-15T17:12:58.186334Z"
    },
    "papermill": {
     "duration": 0.747865,
     "end_time": "2023-01-15T17:12:58.189030",
     "exception": false,
     "start_time": "2023-01-15T17:12:57.441165",
     "status": "completed"
    },
    "tags": []
   },
   "outputs": [
    {
     "data": {
      "application/javascript": [
       "parent.postMessage({\"jupyterEvent\": \"custom.exercise_interaction\", \"data\": {\"outcomeType\": 1, \"valueTowardsCompletion\": 0.5, \"interactionType\": 1, \"questionType\": 2, \"questionId\": \"1.1_Model1A\", \"learnToolsVersion\": \"0.3.4\", \"failureMessage\": \"\", \"exceptionClass\": \"\", \"trace\": \"\"}}, \"*\")"
      ],
      "text/plain": [
       "<IPython.core.display.Javascript object>"
      ]
     },
     "metadata": {},
     "output_type": "display_data"
    },
    {
     "data": {
      "text/markdown": [
       "<span style=\"color:#33cc33\">Correct</span>"
      ],
      "text/plain": [
       "Correct"
      ]
     },
     "metadata": {},
     "output_type": "display_data"
    }
   ],
   "source": [
    "from xgboost import XGBRegressor\n",
    "\n",
    "# Define the model\n",
    "my_model_1 = XGBRegressor(random_state=0)\n",
    "# Your code here\n",
    "\n",
    "# Fit the model\n",
    "my_model_1.fit(X_train, y_train) # Your code here\n",
    "\n",
    "# Check your answer\n",
    "step_1.a.check()"
   ]
  },
  {
   "cell_type": "code",
   "execution_count": 4,
   "id": "d9f46477",
   "metadata": {
    "execution": {
     "iopub.execute_input": "2023-01-15T17:12:58.200633Z",
     "iopub.status.busy": "2023-01-15T17:12:58.200129Z",
     "iopub.status.idle": "2023-01-15T17:12:58.203704Z",
     "shell.execute_reply": "2023-01-15T17:12:58.203087Z"
    },
    "papermill": {
     "duration": 0.011422,
     "end_time": "2023-01-15T17:12:58.205375",
     "exception": false,
     "start_time": "2023-01-15T17:12:58.193953",
     "status": "completed"
    },
    "tags": []
   },
   "outputs": [],
   "source": [
    "# Lines below will give you a hint or solution code\n",
    "#step_1.a.hint()\n",
    "#step_1.a.solution()"
   ]
  },
  {
   "cell_type": "markdown",
   "id": "122d4025",
   "metadata": {
    "papermill": {
     "duration": 0.005486,
     "end_time": "2023-01-15T17:12:58.215797",
     "exception": false,
     "start_time": "2023-01-15T17:12:58.210311",
     "status": "completed"
    },
    "tags": []
   },
   "source": [
    "### Part B\n",
    "\n",
    "Set `predictions_1` to the model's predictions for the validation data.  Recall that the validation features are stored in `X_valid`."
   ]
  },
  {
   "cell_type": "code",
   "execution_count": 5,
   "id": "1cb1a381",
   "metadata": {
    "execution": {
     "iopub.execute_input": "2023-01-15T17:12:58.227299Z",
     "iopub.status.busy": "2023-01-15T17:12:58.226769Z",
     "iopub.status.idle": "2023-01-15T17:12:58.245163Z",
     "shell.execute_reply": "2023-01-15T17:12:58.244211Z"
    },
    "papermill": {
     "duration": 0.026446,
     "end_time": "2023-01-15T17:12:58.247058",
     "exception": false,
     "start_time": "2023-01-15T17:12:58.220612",
     "status": "completed"
    },
    "tags": []
   },
   "outputs": [
    {
     "data": {
      "application/javascript": [
       "parent.postMessage({\"jupyterEvent\": \"custom.exercise_interaction\", \"data\": {\"outcomeType\": 1, \"valueTowardsCompletion\": 0.5, \"interactionType\": 1, \"questionType\": 2, \"questionId\": \"1.2_Model1B\", \"learnToolsVersion\": \"0.3.4\", \"failureMessage\": \"\", \"exceptionClass\": \"\", \"trace\": \"\"}}, \"*\")"
      ],
      "text/plain": [
       "<IPython.core.display.Javascript object>"
      ]
     },
     "metadata": {},
     "output_type": "display_data"
    },
    {
     "data": {
      "text/markdown": [
       "<span style=\"color:#33cc33\">Correct</span>"
      ],
      "text/plain": [
       "Correct"
      ]
     },
     "metadata": {},
     "output_type": "display_data"
    }
   ],
   "source": [
    "from sklearn.metrics import mean_absolute_error\n",
    "\n",
    "# Get predictions\n",
    "predictions_1 = my_model_1.predict(X_valid) # Your code here\n",
    "\n",
    "# Check your answer\n",
    "step_1.b.check()"
   ]
  },
  {
   "cell_type": "code",
   "execution_count": 6,
   "id": "91928a15",
   "metadata": {
    "execution": {
     "iopub.execute_input": "2023-01-15T17:12:58.259441Z",
     "iopub.status.busy": "2023-01-15T17:12:58.258478Z",
     "iopub.status.idle": "2023-01-15T17:12:58.262485Z",
     "shell.execute_reply": "2023-01-15T17:12:58.261874Z"
    },
    "papermill": {
     "duration": 0.012021,
     "end_time": "2023-01-15T17:12:58.264224",
     "exception": false,
     "start_time": "2023-01-15T17:12:58.252203",
     "status": "completed"
    },
    "tags": []
   },
   "outputs": [],
   "source": [
    "# Lines below will give you a hint or solution code\n",
    "#step_1.b.hint()\n",
    "#step_1.b.solution()"
   ]
  },
  {
   "cell_type": "markdown",
   "id": "d1619584",
   "metadata": {
    "papermill": {
     "duration": 0.004736,
     "end_time": "2023-01-15T17:12:58.274119",
     "exception": false,
     "start_time": "2023-01-15T17:12:58.269383",
     "status": "completed"
    },
    "tags": []
   },
   "source": [
    "### Part C\n",
    "\n",
    "Finally, use the `mean_absolute_error()` function to calculate the mean absolute error (MAE) corresponding to the predictions for the validation set.  Recall that the labels for the validation data are stored in `y_valid`."
   ]
  },
  {
   "cell_type": "code",
   "execution_count": 7,
   "id": "8bcded18",
   "metadata": {
    "execution": {
     "iopub.execute_input": "2023-01-15T17:12:58.286144Z",
     "iopub.status.busy": "2023-01-15T17:12:58.285335Z",
     "iopub.status.idle": "2023-01-15T17:12:58.295915Z",
     "shell.execute_reply": "2023-01-15T17:12:58.294569Z"
    },
    "papermill": {
     "duration": 0.018979,
     "end_time": "2023-01-15T17:12:58.298134",
     "exception": false,
     "start_time": "2023-01-15T17:12:58.279155",
     "status": "completed"
    },
    "tags": []
   },
   "outputs": [
    {
     "name": "stdout",
     "output_type": "stream",
     "text": [
      "Mean Absolute Error: 17662.736729452055\n"
     ]
    },
    {
     "data": {
      "application/javascript": [
       "parent.postMessage({\"jupyterEvent\": \"custom.exercise_interaction\", \"data\": {\"outcomeType\": 1, \"valueTowardsCompletion\": 0.5, \"interactionType\": 1, \"questionType\": 2, \"questionId\": \"1.3_Model1C\", \"learnToolsVersion\": \"0.3.4\", \"failureMessage\": \"\", \"exceptionClass\": \"\", \"trace\": \"\"}}, \"*\")"
      ],
      "text/plain": [
       "<IPython.core.display.Javascript object>"
      ]
     },
     "metadata": {},
     "output_type": "display_data"
    },
    {
     "data": {
      "text/markdown": [
       "<span style=\"color:#33cc33\">Correct</span>"
      ],
      "text/plain": [
       "Correct"
      ]
     },
     "metadata": {},
     "output_type": "display_data"
    }
   ],
   "source": [
    "# Calculate MAE\n",
    "mae_1 = mean_absolute_error(predictions_1, y_valid) # Your code here\n",
    "\n",
    "# Uncomment to print MAE\n",
    "print(\"Mean Absolute Error:\" , mae_1)\n",
    "\n",
    "# Check your answer\n",
    "step_1.c.check()"
   ]
  },
  {
   "cell_type": "code",
   "execution_count": 8,
   "id": "ed01563b",
   "metadata": {
    "execution": {
     "iopub.execute_input": "2023-01-15T17:12:58.310595Z",
     "iopub.status.busy": "2023-01-15T17:12:58.310171Z",
     "iopub.status.idle": "2023-01-15T17:12:58.314592Z",
     "shell.execute_reply": "2023-01-15T17:12:58.313661Z"
    },
    "papermill": {
     "duration": 0.014068,
     "end_time": "2023-01-15T17:12:58.317534",
     "exception": false,
     "start_time": "2023-01-15T17:12:58.303466",
     "status": "completed"
    },
    "tags": []
   },
   "outputs": [],
   "source": [
    "# Lines below will give you a hint or solution code\n",
    "#step_1.c.hint()\n",
    "#step_1.c.solution()"
   ]
  },
  {
   "cell_type": "markdown",
   "id": "1dc13475",
   "metadata": {
    "papermill": {
     "duration": 0.005242,
     "end_time": "2023-01-15T17:12:58.328546",
     "exception": false,
     "start_time": "2023-01-15T17:12:58.323304",
     "status": "completed"
    },
    "tags": []
   },
   "source": [
    "# Step 2: Improve the model\n",
    "\n",
    "Now that you've trained a default model as baseline, it's time to tinker with the parameters, to see if you can get better performance!\n",
    "- Begin by setting `my_model_2` to an XGBoost model, using the [XGBRegressor](https://xgboost.readthedocs.io/en/latest/python/python_api.html#xgboost.XGBRegressor) class.  Use what you learned in the previous tutorial to figure out how to change the default parameters (like `n_estimators` and `learning_rate`) to get better results.\n",
    "- Then, fit the model to the training data in `X_train` and `y_train`.\n",
    "- Set `predictions_2` to the model's predictions for the validation data.  Recall that the validation features are stored in `X_valid`.\n",
    "- Finally, use the `mean_absolute_error()` function to calculate the mean absolute error (MAE) corresponding to the predictions on the validation set.  Recall that the labels for the validation data are stored in `y_valid`.\n",
    "\n",
    "In order for this step to be marked correct, your model in `my_model_2` must attain lower MAE than the model in `my_model_1`. "
   ]
  },
  {
   "cell_type": "code",
   "execution_count": 9,
   "id": "b2cb81b7",
   "metadata": {
    "execution": {
     "iopub.execute_input": "2023-01-15T17:12:58.341554Z",
     "iopub.status.busy": "2023-01-15T17:12:58.340271Z",
     "iopub.status.idle": "2023-01-15T17:13:05.288378Z",
     "shell.execute_reply": "2023-01-15T17:13:05.286778Z"
    },
    "papermill": {
     "duration": 6.956655,
     "end_time": "2023-01-15T17:13:05.290441",
     "exception": false,
     "start_time": "2023-01-15T17:12:58.333786",
     "status": "completed"
    },
    "tags": []
   },
   "outputs": [
    {
     "name": "stdout",
     "output_type": "stream",
     "text": [
      "Mean Absolute Error: 16688.691513270547\n"
     ]
    },
    {
     "data": {
      "application/javascript": [
       "parent.postMessage({\"jupyterEvent\": \"custom.exercise_interaction\", \"data\": {\"outcomeType\": 1, \"valueTowardsCompletion\": 0.5, \"interactionType\": 1, \"questionType\": 2, \"questionId\": \"2_Model2\", \"learnToolsVersion\": \"0.3.4\", \"failureMessage\": \"\", \"exceptionClass\": \"\", \"trace\": \"\"}}, \"*\")"
      ],
      "text/plain": [
       "<IPython.core.display.Javascript object>"
      ]
     },
     "metadata": {},
     "output_type": "display_data"
    },
    {
     "data": {
      "text/markdown": [
       "<span style=\"color:#33cc33\">Correct</span>"
      ],
      "text/plain": [
       "Correct"
      ]
     },
     "metadata": {},
     "output_type": "display_data"
    }
   ],
   "source": [
    "# Define the model\n",
    "my_model_2 = XGBRegressor(n_estimators=1000, learning_rate=0.05)\n",
    "# Your code here\n",
    "\n",
    "# Fit the model\n",
    "my_model_2.fit(X_train, y_train)\n",
    "# Your code here\n",
    "\n",
    "# Get predictions\n",
    "predictions_2 = my_model_2.predict(X_valid)\n",
    "# Your code here\n",
    "\n",
    "# Calculate MAE\n",
    "mae_2 = mean_absolute_error(predictions_2, y_valid) # Your code here\n",
    "\n",
    "# Uncomment to print MAE\n",
    "print(\"Mean Absolute Error:\" , mae_2)\n",
    "\n",
    "# Check your answer\n",
    "step_2.check()"
   ]
  },
  {
   "cell_type": "code",
   "execution_count": 10,
   "id": "da0951d6",
   "metadata": {
    "execution": {
     "iopub.execute_input": "2023-01-15T17:13:05.303515Z",
     "iopub.status.busy": "2023-01-15T17:13:05.303131Z",
     "iopub.status.idle": "2023-01-15T17:13:05.307852Z",
     "shell.execute_reply": "2023-01-15T17:13:05.306467Z"
    },
    "papermill": {
     "duration": 0.013718,
     "end_time": "2023-01-15T17:13:05.309949",
     "exception": false,
     "start_time": "2023-01-15T17:13:05.296231",
     "status": "completed"
    },
    "tags": []
   },
   "outputs": [],
   "source": [
    "# Lines below will give you a hint or solution code\n",
    "#step_2.hint()\n",
    "#step_2.solution()"
   ]
  },
  {
   "cell_type": "markdown",
   "id": "1c355950",
   "metadata": {
    "papermill": {
     "duration": 0.005345,
     "end_time": "2023-01-15T17:13:05.321148",
     "exception": false,
     "start_time": "2023-01-15T17:13:05.315803",
     "status": "completed"
    },
    "tags": []
   },
   "source": [
    "# Step 3: Break the model\n",
    "\n",
    "In this step, you will create a model that performs worse than the original model in Step 1.  This will help you to develop your intuition for how to set parameters.  You might even find that you accidentally get better performance, which is ultimately a nice problem to have and a valuable learning experience!\n",
    "- Begin by setting `my_model_3` to an XGBoost model, using the [XGBRegressor](https://xgboost.readthedocs.io/en/latest/python/python_api.html#xgboost.XGBRegressor) class.  Use what you learned in the previous tutorial to figure out how to change the default parameters (like `n_estimators` and `learning_rate`) to design a model to get high MAE.\n",
    "- Then, fit the model to the training data in `X_train` and `y_train`.\n",
    "- Set `predictions_3` to the model's predictions for the validation data.  Recall that the validation features are stored in `X_valid`.\n",
    "- Finally, use the `mean_absolute_error()` function to calculate the mean absolute error (MAE) corresponding to the predictions on the validation set.  Recall that the labels for the validation data are stored in `y_valid`.\n",
    "\n",
    "In order for this step to be marked correct, your model in `my_model_3` must attain higher MAE than the model in `my_model_1`. "
   ]
  },
  {
   "cell_type": "code",
   "execution_count": 11,
   "id": "0b36f5b7",
   "metadata": {
    "execution": {
     "iopub.execute_input": "2023-01-15T17:13:05.334322Z",
     "iopub.status.busy": "2023-01-15T17:13:05.333766Z",
     "iopub.status.idle": "2023-01-15T17:13:05.381602Z",
     "shell.execute_reply": "2023-01-15T17:13:05.380928Z"
    },
    "papermill": {
     "duration": 0.057094,
     "end_time": "2023-01-15T17:13:05.383737",
     "exception": false,
     "start_time": "2023-01-15T17:13:05.326643",
     "status": "completed"
    },
    "tags": []
   },
   "outputs": [
    {
     "name": "stdout",
     "output_type": "stream",
     "text": [
      "Mean Absolute Error: 127895.0828807256\n"
     ]
    },
    {
     "data": {
      "application/javascript": [
       "parent.postMessage({\"jupyterEvent\": \"custom.exercise_interaction\", \"data\": {\"outcomeType\": 1, \"valueTowardsCompletion\": 0.5, \"interactionType\": 1, \"questionType\": 2, \"questionId\": \"3_Model3\", \"learnToolsVersion\": \"0.3.4\", \"failureMessage\": \"\", \"exceptionClass\": \"\", \"trace\": \"\"}}, \"*\")"
      ],
      "text/plain": [
       "<IPython.core.display.Javascript object>"
      ]
     },
     "metadata": {},
     "output_type": "display_data"
    },
    {
     "data": {
      "text/markdown": [
       "<span style=\"color:#33cc33\">Correct</span>"
      ],
      "text/plain": [
       "Correct"
      ]
     },
     "metadata": {},
     "output_type": "display_data"
    }
   ],
   "source": [
    "# Define the model\n",
    "my_model_3 = XGBRegressor(n_estimators=1)\n",
    "\n",
    "# Fit the model\n",
    "my_model_3.fit(X_train, y_train)\n",
    "# Your code here\n",
    "\n",
    "# Get predictions\n",
    "predictions_3 = my_model_3.predict(X_valid)\n",
    "\n",
    "# Calculate MAE\n",
    "mae_3 = mean_absolute_error(predictions_3, y_valid)\n",
    "\n",
    "# Uncomment to print MAE\n",
    "print(\"Mean Absolute Error:\" , mae_3)\n",
    "\n",
    "# Check your answer\n",
    "step_3.check()"
   ]
  },
  {
   "cell_type": "code",
   "execution_count": 12,
   "id": "cdda038b",
   "metadata": {
    "execution": {
     "iopub.execute_input": "2023-01-15T17:13:05.397642Z",
     "iopub.status.busy": "2023-01-15T17:13:05.397256Z",
     "iopub.status.idle": "2023-01-15T17:13:05.401527Z",
     "shell.execute_reply": "2023-01-15T17:13:05.400125Z"
    },
    "papermill": {
     "duration": 0.013786,
     "end_time": "2023-01-15T17:13:05.403623",
     "exception": false,
     "start_time": "2023-01-15T17:13:05.389837",
     "status": "completed"
    },
    "tags": []
   },
   "outputs": [],
   "source": [
    "# Lines below will give you a hint or solution code\n",
    "#step_3.hint()\n",
    "#step_3.solution()"
   ]
  },
  {
   "cell_type": "markdown",
   "id": "4ef54768",
   "metadata": {
    "papermill": {
     "duration": 0.005754,
     "end_time": "2023-01-15T17:13:05.415419",
     "exception": false,
     "start_time": "2023-01-15T17:13:05.409665",
     "status": "completed"
    },
    "tags": []
   },
   "source": [
    "# Keep going\n",
    "\n",
    "Continue to learn about **[data leakage](https://www.kaggle.com/alexisbcook/data-leakage)**.  This is an important issue for a data scientist to understand, and it has the potential to ruin your models in subtle and dangerous ways!"
   ]
  },
  {
   "cell_type": "markdown",
   "id": "29e36982",
   "metadata": {
    "papermill": {
     "duration": 0.005734,
     "end_time": "2023-01-15T17:13:05.427112",
     "exception": false,
     "start_time": "2023-01-15T17:13:05.421378",
     "status": "completed"
    },
    "tags": []
   },
   "source": [
    "---\n",
    "\n",
    "\n",
    "\n",
    "\n",
    "*Have questions or comments? Visit the [course discussion forum](https://www.kaggle.com/learn/intermediate-machine-learning/discussion) to chat with other learners.*"
   ]
  }
 ],
 "metadata": {
  "kernelspec": {
   "display_name": "Python 3",
   "language": "python",
   "name": "python3"
  },
  "language_info": {
   "codemirror_mode": {
    "name": "ipython",
    "version": 3
   },
   "file_extension": ".py",
   "mimetype": "text/x-python",
   "name": "python",
   "nbconvert_exporter": "python",
   "pygments_lexer": "ipython3",
   "version": "3.7.12"
  },
  "papermill": {
   "default_parameters": {},
   "duration": 20.044147,
   "end_time": "2023-01-15T17:13:06.153787",
   "environment_variables": {},
   "exception": null,
   "input_path": "__notebook__.ipynb",
   "output_path": "__notebook__.ipynb",
   "parameters": {},
   "start_time": "2023-01-15T17:12:46.109640",
   "version": "2.3.4"
  }
 },
 "nbformat": 4,
 "nbformat_minor": 5
}
